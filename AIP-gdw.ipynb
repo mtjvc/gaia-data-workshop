{
 "cells": [
  {
   "cell_type": "markdown",
   "metadata": {},
   "source": [
    "# Gaia Data Workshop - Heidelberg, November 21-24, 2016 \n",
    "## The Gaia Service at AIP\n",
    "Gal Matijevic // gmatijevic@aip.de\n",
    "### Hands-on Tutorial\n",
    "\n",
    "This notebook will cover the access of the AIP's Gaia service through the UWS (Universal Worker Service) interface."
   ]
  },
  {
   "cell_type": "markdown",
   "metadata": {},
   "source": [
    "First, let us import the packages we will need in this tutorial:"
   ]
  },
  {
   "cell_type": "code",
   "execution_count": 5,
   "metadata": {
    "collapsed": false
   },
   "outputs": [],
   "source": [
    "import numpy as np\n",
    "import matplotlib.pyplot as plt\n",
    "import pandas as pd\n",
    "\n",
    "import uws.UWS.client as client"
   ]
  },
  {
   "cell_type": "markdown",
   "metadata": {},
   "source": [
    "The connection to the database is established very easly through the `Client` object. We need to supply the url and the user credentials."
   ]
  },
  {
   "cell_type": "code",
   "execution_count": 3,
   "metadata": {
    "collapsed": true
   },
   "outputs": [],
   "source": [
    "url = 'https://gaia.aip.de/uws/query'\n",
    "username = ''\n",
    "password = ''"
   ]
  },
  {
   "cell_type": "code",
   "execution_count": 6,
   "metadata": {
    "collapsed": false
   },
   "outputs": [],
   "source": [
    "cli = client.Client(url, username, password)"
   ]
  },
  {
   "cell_type": "markdown",
   "metadata": {},
   "source": [
    "To list all `PENDING` or `COMPLETED` jobs we can use the `get_job_list()` function (it might take a second or two):"
   ]
  },
  {
   "cell_type": "code",
   "execution_count": null,
   "metadata": {
    "collapsed": false
   },
   "outputs": [],
   "source": [
    "filters = {'phases': ['PENDING', 'COMPLETED']}\n",
    "job_list = cli.get_job_list(filters)\n",
    "for ref in job_list.job_reference:\n",
    "    print ref.ownerId, ref.creationTime, ref.phase[0]"
   ]
  },
  {
   "cell_type": "markdown",
   "metadata": {},
   "source": [
    "Similar job list can also be shown for other `phases` such as `ABORTED`, `QUEUED` and so on. Jobs can also be listed based on the time of their creation time or their consequtive number."
   ]
  },
  {
   "cell_type": "markdown",
   "metadata": {},
   "source": [
    "Adding a new job to the stack is done with the `new_job()` function. It requires a query and a queue to be passed to it. We wrap both into a dictionary called `parameters`:"
   ]
  },
  {
   "cell_type": "code",
   "execution_count": null,
   "metadata": {
    "collapsed": false
   },
   "outputs": [],
   "source": [
    "parameters = {'query': 'SELECT ra,`dec` FROM GDR1.tgas_source LIMIT 10', 'queue': 'long'}\n",
    "job = cli.new_job(parameters)\n",
    "print job.phase"
   ]
  },
  {
   "cell_type": "markdown",
   "metadata": {},
   "source": [
    "We can now run it with `run_job()`. To see the phase of the job we use the `get_job()` to query it every 10 seconds and see if the phase has changed from `QUEUED`."
   ]
  },
  {
   "cell_type": "code",
   "execution_count": null,
   "metadata": {
    "collapsed": false
   },
   "outputs": [],
   "source": [
    "run = cli.run_job(job.job_id)\n",
    "job = cli.get_job(run.job_id, wait='10', phase='QUEUED')\n",
    "print job.phase[0]"
   ]
  },
  {
   "cell_type": "markdown",
   "metadata": {},
   "source": [
    "If it is still `EXECUTING` we can re-check the phase with"
   ]
  },
  {
   "cell_type": "code",
   "execution_count": null,
   "metadata": {
    "collapsed": false
   },
   "outputs": [],
   "source": [
    "print job.phase[0]"
   ]
  },
  {
   "cell_type": "markdown",
   "metadata": {},
   "source": [
    "If we check the job list in the web interface we will see the submitted job in the list on the left."
   ]
  },
  {
   "cell_type": "markdown",
   "metadata": {},
   "source": [
    "Now we need to fetch the results that the query has generated. We can download the data contained in various formats. We will be using the `csv` format as it is easly parsed by the `pandas` package:"
   ]
  },
  {
   "cell_type": "code",
   "execution_count": null,
   "metadata": {
    "collapsed": true
   },
   "outputs": [],
   "source": [
    "if job.phase[0] == 'COMPLETED':\n",
    "    fileurl = str(job.results[0].reference)\n",
    "    cli.connection.download_file(fileurl, username, password, file_name='res.csv')"
   ]
  },
  {
   "cell_type": "code",
   "execution_count": null,
   "metadata": {
    "collapsed": false
   },
   "outputs": [],
   "source": [
    "data = pd.read_csv('res.csv')"
   ]
  },
  {
   "cell_type": "code",
   "execution_count": null,
   "metadata": {
    "collapsed": false
   },
   "outputs": [],
   "source": [
    "data"
   ]
  },
  {
   "cell_type": "markdown",
   "metadata": {},
   "source": [
    "Let us delete the job from the stack so it does not hog our limited user space. We do that using the `delete_job` function:"
   ]
  },
  {
   "cell_type": "code",
   "execution_count": null,
   "metadata": {
    "collapsed": false
   },
   "outputs": [],
   "source": [
    "cli.delete_job(job.job_id)"
   ]
  },
  {
   "cell_type": "markdown",
   "metadata": {},
   "source": [
    "The operation of submitting a query, downloading a file, converting it to a `pandas`, and deleteing a job will be something will re-use again so let us wrap this procedure into a couple of functions:"
   ]
  },
  {
   "cell_type": "code",
   "execution_count": 2,
   "metadata": {
    "collapsed": false
   },
   "outputs": [],
   "source": [
    "def submit_query(client, query, queue):\n",
    "    parameters = {'query': query, 'queue': queue}\n",
    "    job = client.new_job(parameters)\n",
    "    run = client.run_job(job.job_id)\n",
    "    \n",
    "    return run\n",
    "    \n",
    "def get_data(client, run, username, password, wait='10'):\n",
    "    job = client.get_job(run.job_id, wait=wait, phase='QUEUED')\n",
    "    \n",
    "    if job.phase[0] == 'COMPLETED':\n",
    "        fileurl = str(job.results[0].reference)\n",
    "        client.connection.download_file(fileurl, username, password, file_name='res.csv')\n",
    "        data = pd.read_csv('res.csv')\n",
    "        success = client.delete_job(job.job_id)\n",
    "        return data\n",
    "    \n",
    "    return None"
   ]
  },
  {
   "cell_type": "markdown",
   "metadata": {},
   "source": [
    "Executing a query and fetching the results can now be done in a couple of lines:"
   ]
  },
  {
   "cell_type": "code",
   "execution_count": 7,
   "metadata": {
    "collapsed": false
   },
   "outputs": [],
   "source": [
    "query = 'SELECT ra,`dec` FROM `GDR1`.`tgas_source` WHERE FLOOR(source_id / (POW(2, 35) * POW(4, 12 - 6))) = 824;'\n",
    "run = submit_query(cli, query, queue='long')"
   ]
  },
  {
   "cell_type": "code",
   "execution_count": 10,
   "metadata": {
    "collapsed": false
   },
   "outputs": [],
   "source": [
    "data = get_data(cli, run, username, password)"
   ]
  },
  {
   "cell_type": "code",
   "execution_count": 11,
   "metadata": {
    "collapsed": false
   },
   "outputs": [
    {
     "ename": "AttributeError",
     "evalue": "'NoneType' object has no attribute 'shape'",
     "output_type": "error",
     "traceback": [
      "\u001b[0;31m---------------------------------------------------------------------------\u001b[0m",
      "\u001b[0;31mAttributeError\u001b[0m                            Traceback (most recent call last)",
      "\u001b[0;32m<ipython-input-11-4d6baf1a67bf>\u001b[0m in \u001b[0;36m<module>\u001b[0;34m()\u001b[0m\n\u001b[0;32m----> 1\u001b[0;31m \u001b[0mdata\u001b[0m\u001b[0;34m.\u001b[0m\u001b[0mshape\u001b[0m\u001b[0;34m\u001b[0m\u001b[0m\n\u001b[0m",
      "\u001b[0;31mAttributeError\u001b[0m: 'NoneType' object has no attribute 'shape'"
     ]
    }
   ],
   "source": [
    "data.shape"
   ]
  },
  {
   "cell_type": "markdown",
   "metadata": {},
   "source": [
    "Let us plot them:"
   ]
  },
  {
   "cell_type": "code",
   "execution_count": null,
   "metadata": {
    "collapsed": false
   },
   "outputs": [],
   "source": [
    "ax = plt.subplot(111, projection=\"aitoff\")\n",
    "ax.scatter(data['ra'] - 180, data['dec'], s=2, lw=0)\n",
    "plt.show()"
   ]
  }
 ],
 "metadata": {
  "kernelspec": {
   "display_name": "Python 2",
   "language": "python",
   "name": "python2"
  },
  "language_info": {
   "codemirror_mode": {
    "name": "ipython",
    "version": 2
   },
   "file_extension": ".py",
   "mimetype": "text/x-python",
   "name": "python",
   "nbconvert_exporter": "python",
   "pygments_lexer": "ipython2",
   "version": "2.7.9"
  }
 },
 "nbformat": 4,
 "nbformat_minor": 1
}
