{
 "cells": [
  {
   "cell_type": "markdown",
   "metadata": {},
   "source": [
    "# Gaia Data Workshop - Heidelberg, November 21-24, 2016 \n",
    "## The Gaia Service at AIP\n",
    "Gal Matijevic // gmatijevic@aip.de\n",
    "### Hands-on Tutorial\n",
    "\n",
    "This notebook will cover the access of the AIP's Gaia service through the UWS (Universal Worker Service) interface."
   ]
  },
  {
   "cell_type": "markdown",
   "metadata": {},
   "source": [
    "First, let us import the packages we will need in this tutorial:"
   ]
  },
  {
   "cell_type": "code",
   "execution_count": null,
   "metadata": {
    "collapsed": false
   },
   "outputs": [],
   "source": [
    "import time\n",
    "\n",
    "import numpy as np\n",
    "import matplotlib.pyplot as plt\n",
    "import pandas as pd\n",
    "\n",
    "import matplotlib\n",
    "matplotlib.rcParams.update(matplotlib.rcParamsDefault)\n",
    "\n",
    "import uws.UWS.client as client"
   ]
  },
  {
   "cell_type": "markdown",
   "metadata": {},
   "source": [
    "The connection to the database is established very easly through the `Client` object. We need to supply the url and the user credentials."
   ]
  },
  {
   "cell_type": "code",
   "execution_count": null,
   "metadata": {
    "collapsed": true
   },
   "outputs": [],
   "source": [
    "url = 'https://gaia.aip.de/uws/query'\n",
    "username = ''\n",
    "password = ''"
   ]
  },
  {
   "cell_type": "code",
   "execution_count": null,
   "metadata": {
    "collapsed": false
   },
   "outputs": [],
   "source": [
    "cli = client.Client(url, username, password)"
   ]
  },
  {
   "cell_type": "markdown",
   "metadata": {},
   "source": [
    "To list all `PENDING` or `COMPLETED` jobs we can use the `get_job_list()` function (it might take a second or two):"
   ]
  },
  {
   "cell_type": "code",
   "execution_count": null,
   "metadata": {
    "collapsed": false
   },
   "outputs": [],
   "source": [
    "filters = {'phases': ['PENDING', 'COMPLETED']}\n",
    "job_list = cli.get_job_list(filters)\n",
    "for ref in job_list.job_reference:\n",
    "    print ref.ownerId, ref.creationTime, ref.phase[0]"
   ]
  },
  {
   "cell_type": "markdown",
   "metadata": {},
   "source": [
    "Similar job list can also be shown for other `phases` such as `ABORTED`, `QUEUED` and so on. Jobs can also be listed based on the time of their creation time or their consequtive number."
   ]
  },
  {
   "cell_type": "markdown",
   "metadata": {},
   "source": [
    "Adding a new job to the stack is done with the `new_job()` function. It requires a query and a queue to be passed to it. We wrap both into a dictionary called `parameters`:"
   ]
  },
  {
   "cell_type": "code",
   "execution_count": null,
   "metadata": {
    "collapsed": false
   },
   "outputs": [],
   "source": [
    "parameters = {'query': 'SELECT ra,`dec` FROM GDR1.tgas_source LIMIT 10',\n",
    "              'queue': 'long'}\n",
    "job = cli.new_job(parameters)\n",
    "print job.phase"
   ]
  },
  {
   "cell_type": "markdown",
   "metadata": {},
   "source": [
    "We can now run it with `run_job()`. To see the phase of the job we use the `get_job()` to query its state every 10 seconds and see if the phase has changed from `QUEUED`."
   ]
  },
  {
   "cell_type": "code",
   "execution_count": null,
   "metadata": {
    "collapsed": false
   },
   "outputs": [],
   "source": [
    "run = cli.run_job(job.job_id)\n",
    "job = cli.get_job(run.job_id, wait='10', phase='QUEUED')\n",
    "print job.phase[0]"
   ]
  },
  {
   "cell_type": "markdown",
   "metadata": {},
   "source": [
    "If it is still `EXECUTING` we can re-check the phase with"
   ]
  },
  {
   "cell_type": "code",
   "execution_count": null,
   "metadata": {
    "collapsed": false
   },
   "outputs": [],
   "source": [
    "print job.phase[0]"
   ]
  },
  {
   "cell_type": "markdown",
   "metadata": {},
   "source": [
    "If we look at the job list in the web interface we will see the submitted job in the list on the left."
   ]
  },
  {
   "cell_type": "markdown",
   "metadata": {},
   "source": [
    "Now we need to fetch the results that the query has generated. We can download the data returned by the query in a few different formats. We will be using the `csv` format as it is easly parsed by the `pandas` package that we will use to read the data into the notebook:"
   ]
  },
  {
   "cell_type": "code",
   "execution_count": null,
   "metadata": {
    "collapsed": true
   },
   "outputs": [],
   "source": [
    "if job.phase[0] == 'COMPLETED':\n",
    "    fileurl = str(job.results[0].reference)\n",
    "    cli.connection.download_file(fileurl, username, password,\n",
    "                                 file_name='res.csv')"
   ]
  },
  {
   "cell_type": "code",
   "execution_count": null,
   "metadata": {
    "collapsed": false
   },
   "outputs": [],
   "source": [
    "data = pd.read_csv('res.csv')"
   ]
  },
  {
   "cell_type": "code",
   "execution_count": null,
   "metadata": {
    "collapsed": false
   },
   "outputs": [],
   "source": [
    "data"
   ]
  },
  {
   "cell_type": "markdown",
   "metadata": {},
   "source": [
    "Finally, we can delete the job from the stack so it does not hog our limited user space. We do that using the `delete_job()` function:"
   ]
  },
  {
   "cell_type": "code",
   "execution_count": null,
   "metadata": {
    "collapsed": false
   },
   "outputs": [],
   "source": [
    "cli.delete_job(job.job_id)"
   ]
  },
  {
   "cell_type": "markdown",
   "metadata": {},
   "source": [
    "The operation of submitting a query, downloading a file, converting it to a `pandas` frame, and deleteing a job will be something will re-use again so let us wrap this procedure into a couple of functions:"
   ]
  },
  {
   "cell_type": "code",
   "execution_count": null,
   "metadata": {
    "collapsed": false
   },
   "outputs": [],
   "source": [
    "def submit_query(client, query, queue):\n",
    "    parameters = {'query': query, 'queue': queue}\n",
    "    job = client.new_job(parameters)\n",
    "    time.sleep(1)\n",
    "    run = client.run_job(job.job_id)\n",
    "    \n",
    "    return run\n",
    "    \n",
    "def get_data(client, run, username, password, wait='10',\n",
    "             filename='res.csv'):\n",
    "    job = client.get_job(run.job_id, wait=wait, phase='QUEUED')\n",
    "    \n",
    "    if job.phase[0] == 'COMPLETED':\n",
    "        fileurl = str(job.results[0].reference)\n",
    "        client.connection.download_file(fileurl, username, password,\n",
    "                                        file_name=filename)\n",
    "        data = pd.read_csv('res.csv')\n",
    "        success = client.delete_job(job.job_id)\n",
    "        return data\n",
    "    \n",
    "    return None"
   ]
  },
  {
   "cell_type": "markdown",
   "metadata": {},
   "source": [
    "Executing a query and fetching the results can now be done in a couple of lines:"
   ]
  },
  {
   "cell_type": "code",
   "execution_count": null,
   "metadata": {
    "collapsed": false
   },
   "outputs": [],
   "source": [
    "query = 'SELECT l,b FROM GDR1.tgas_source ' +\\\n",
    "        'WHERE FLOOR(source_id / (POW(2, 35) * POW(4, 12 - 4))) % 30 = 20;'\n",
    "run = submit_query(cli, query, queue='long')"
   ]
  },
  {
   "cell_type": "code",
   "execution_count": null,
   "metadata": {
    "collapsed": false
   },
   "outputs": [],
   "source": [
    "data = get_data(cli, run, username, password)"
   ]
  },
  {
   "cell_type": "code",
   "execution_count": null,
   "metadata": {
    "collapsed": false
   },
   "outputs": [],
   "source": [
    "data.shape"
   ]
  },
  {
   "cell_type": "markdown",
   "metadata": {},
   "source": [
    "Let us plot them:"
   ]
  },
  {
   "cell_type": "code",
   "execution_count": null,
   "metadata": {
    "collapsed": true
   },
   "outputs": [],
   "source": [
    "def pscatter(ax, x, y, c='b', size=5):\n",
    "    x = np.remainder(x + 360.0, 360.0)\n",
    "    x[x > 180.0] -= 360.0\n",
    "    x =- x\n",
    "    sc = ax.scatter(np.radians(x), np.radians(y), c=c, s=size, lw=0)\n",
    "    return sc"
   ]
  },
  {
   "cell_type": "code",
   "execution_count": null,
   "metadata": {
    "collapsed": false
   },
   "outputs": [],
   "source": [
    "ax = plt.subplot(111, projection='aitoff')\n",
    "pscatter(ax, data['l'], data['b'], size=5)\n",
    "plt.show()"
   ]
  },
  {
   "cell_type": "markdown",
   "metadata": {
    "collapsed": true
   },
   "source": [
    "A slightly more elaborate example with radial velocities of TGAS stars from the RAVE DR5 catalog:"
   ]
  },
  {
   "cell_type": "code",
   "execution_count": null,
   "metadata": {
    "collapsed": false
   },
   "outputs": [],
   "source": [
    "query = 'SELECT tgas.l AS l,tgas.b AS b,rave.HRV AS rv ' +\\\n",
    "        'FROM `GDR1`.`tgas_source` AS tgas, `RAVE`.`RAVE_DR5` AS rave ' +\\\n",
    "        'WHERE tgas.source_id = rave.source_id ' +\\\n",
    "        'LIMIT 30000'\n",
    "run = submit_query(cli, query, queue='long')"
   ]
  },
  {
   "cell_type": "code",
   "execution_count": null,
   "metadata": {
    "collapsed": true
   },
   "outputs": [],
   "source": [
    "data = get_data(cli, run, username, password)"
   ]
  },
  {
   "cell_type": "code",
   "execution_count": null,
   "metadata": {
    "collapsed": false
   },
   "outputs": [],
   "source": [
    "ax = plt.subplot(111, projection='aitoff')\n",
    "rv = np.clip(data['rv'], -50, 50)\n",
    "sc = pscatter(ax, data['l'], data['b'], c=rv, size=2)\n",
    "plt.colorbar(sc)\n",
    "ax.set_xticklabels([])\n",
    "plt.grid()\n",
    "plt.show()"
   ]
  },
  {
   "cell_type": "code",
   "execution_count": null,
   "metadata": {
    "collapsed": true
   },
   "outputs": [],
   "source": []
  }
 ],
 "metadata": {
  "kernelspec": {
   "display_name": "Python 2",
   "language": "python",
   "name": "python2"
  },
  "language_info": {
   "codemirror_mode": {
    "name": "ipython",
    "version": 2
   },
   "file_extension": ".py",
   "mimetype": "text/x-python",
   "name": "python",
   "nbconvert_exporter": "python",
   "pygments_lexer": "ipython2",
   "version": "2.7.9"
  }
 },
 "nbformat": 4,
 "nbformat_minor": 1
}
